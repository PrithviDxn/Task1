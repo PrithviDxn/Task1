{
 "cells": [
  {
   "cell_type": "code",
   "execution_count": 1,
   "id": "ed4c99cd",
   "metadata": {},
   "outputs": [
    {
     "name": "stdout",
     "output_type": "stream",
     "text": [
      "Initial list: [1, 2, 3]\n",
      "List after adding an element: [1, 2, 3, 4]\n",
      "List after removing an element: [1, 3, 4]\n",
      "List after modifying an element: [1, 5, 4]\n",
      "\n",
      "Initial dictionary: {'a': 1, 'b': 2, 'c': 3}\n",
      "Dictionary after adding an element: {'a': 1, 'b': 2, 'c': 3, 'd': 4}\n",
      "Dictionary after removing an element: {'a': 1, 'c': 3, 'd': 4}\n",
      "Dictionary after modifying an element: {'a': 5, 'c': 3, 'd': 4}\n",
      "\n",
      "Initial set: {1, 2, 3}\n",
      "Set after adding an element: {1, 2, 3, 4}\n",
      "Set after removing an element: {1, 3, 4}\n",
      "Set after modifying an element: {3, 4, 5}\n"
     ]
    }
   ],
   "source": [
    "#list\n",
    "my_list = [1, 2, 3]\n",
    "print(\"Initial list:\", my_list)\n",
    "\n",
    "#Add\n",
    "my_list.append(4)\n",
    "\n",
    "print(\"List after adding an element:\", my_list)\n",
    "\n",
    "#Remove\n",
    "my_list.remove(2)\n",
    "print(\"List after removing an element:\", my_list)\n",
    "\n",
    "#Modify\n",
    "my_list[1] = 5\n",
    "print(\"List after modifying an element:\", my_list)\n",
    "\n",
    "\n",
    "#dictionary\n",
    "my_dict = {'a': 1, 'b': 2, 'c': 3}\n",
    "print(\"\\nInitial dictionary:\", my_dict)\n",
    "\n",
    "# Adding\n",
    "my_dict['d'] = 4\n",
    "print(\"Dictionary after adding an element:\", my_dict)\n",
    "\n",
    "# Removing\n",
    "del my_dict['b']\n",
    "print(\"Dictionary after removing an element:\", my_dict)\n",
    "\n",
    "# Modifying\n",
    "my_dict['a'] = 5\n",
    "print(\"Dictionary after modifying an element:\", my_dict)\n",
    "\n",
    "\n",
    "#set\n",
    "my_set = {1, 2, 3}\n",
    "print(\"\\nInitial set:\", my_set)\n",
    "\n",
    "# Adding\n",
    "my_set.add(4)\n",
    "print(\"Set after adding an element:\", my_set)\n",
    "\n",
    "# Removing\n",
    "my_set.remove(2)\n",
    "print(\"Set after removing an element:\", my_set)\n",
    "\n",
    "\n",
    "my_set.remove(1)\n",
    "my_set.add(5)\n",
    "print(\"Set after modifying an element:\", my_set)\n"
   ]
  },
  {
   "cell_type": "code",
   "execution_count": null,
   "id": "bffca7fa",
   "metadata": {},
   "outputs": [],
   "source": []
  }
 ],
 "metadata": {
  "kernelspec": {
   "display_name": "Python 3 (ipykernel)",
   "language": "python",
   "name": "python3"
  },
  "language_info": {
   "codemirror_mode": {
    "name": "ipython",
    "version": 3
   },
   "file_extension": ".py",
   "mimetype": "text/x-python",
   "name": "python",
   "nbconvert_exporter": "python",
   "pygments_lexer": "ipython3",
   "version": "3.11.4"
  }
 },
 "nbformat": 4,
 "nbformat_minor": 5
}
